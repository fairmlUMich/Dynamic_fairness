{
 "cells": [
  {
   "cell_type": "markdown",
   "metadata": {},
   "source": [
    "## set up github"
   ]
  },
  {
   "cell_type": "markdown",
   "metadata": {},
   "source": [
    "$F_0 = P(\\hat{Y}|Y, g=0)$  \n",
    "Let $f \\sim exp(\\mu)$  \n",
    "Let $g \\sim U(0,1)$  \n",
    "\n",
    "The porportion of new applicants who become qualified:  \n",
    "$\\beta(\\pi_t) = G(w(F_{k,uq}(\\bar{\\theta}(\\pi_t)) - F_{k,q}(\\bar{\\theta}(\\pi_t)))$  \n",
    "\n",
    "$\\frac{d\\pi}{dt} = \\lambda(\\beta(\\pi_t) - \\pi_t)$\n",
    "\n",
    "$l(\\theta) = \\frac{\\lambda_q}{\\lambda_{uq}}e^{\\theta(\\lambda_{uq}-\\lambda_q)}$  \n",
    "$l^{-1}(x) = log(x\\frac{\\lambda_{uq}}{\\lambda_q})(\\lambda_{uq}-\\lambda_q)^{-1}$  \n",
    "$x=\\frac{u_{uq}}{u_{q}} \\frac{1-\\pi_t}{\\pi_t}$\n"
   ]
  },
  {
   "cell_type": "markdown",
   "metadata": {},
   "source": [
    "bisection method to find $\\theta$  \n",
    "Add uncertainty to $\\pi$ and thus $\\theta$  \n"
   ]
  },
  {
   "cell_type": "code",
   "execution_count": 9,
   "metadata": {},
   "outputs": [],
   "source": [
    "import numpy as np\n",
    "import matplotlib.pyplot as plt\n",
    "import ipywidgets as widgets\n",
    "from ipywidgets import interact\n",
    "%matplotlib inline\n",
    "\n",
    "u_uq = 1 # utility of unqualified\n",
    "u_q = 1 # utility of qualified\n",
    "l = .1 # lambda\n",
    "w = 1"
   ]
  },
  {
   "cell_type": "code",
   "execution_count": 10,
   "metadata": {},
   "outputs": [],
   "source": []
  },
  {
   "cell_type": "code",
   "execution_count": 33,
   "metadata": {},
   "outputs": [],
   "source": [
    "def plot(lq, luq):\n",
    "    global u_uq, u_q, l, w\n",
    "    \n",
    "    def F(x, l):\n",
    "        return 1-np.exp(-l*x)\n",
    "\n",
    "    def theta(pi):\n",
    "        x = u_uq/u_q*(1-pi)/pi\n",
    "        return np.log(x*luq/lq)*(luq-lq)**(-1)\n",
    "\n",
    "    def dpdt(theta):\n",
    "        return l*(w*(F(theta, luq) - F(theta, lq)) - pi)\n",
    "\n",
    "    pi = np.linspace(.001, 1, 1000)\n",
    "    theta = [theta(x) for x in pi]\n",
    "    plt.plot(theta, pi)\n",
    "    #plt.plot(pi, np.zeros(1000))\n",
    "    #plt.xlim(0,1)\n",
    "    plt.xlabel('theta')\n",
    "    plt.ylabel('pi')\n",
    "    plt.show"
   ]
  },
  {
   "cell_type": "code",
   "execution_count": 34,
   "metadata": {},
   "outputs": [
    {
     "data": {
      "application/vnd.jupyter.widget-view+json": {
       "model_id": "eaa986d120b7403a953225c94dfbad20",
       "version_major": 2,
       "version_minor": 0
      },
      "text/plain": [
       "interactive(children=(FloatSlider(value=50.050000000000004, description='lq', min=0.1), FloatSlider(value=50.0…"
      ]
     },
     "metadata": {},
     "output_type": "display_data"
    },
    {
     "data": {
      "text/plain": [
       "<function __main__.plot(lq, luq)>"
      ]
     },
     "execution_count": 34,
     "metadata": {},
     "output_type": "execute_result"
    }
   ],
   "source": [
    "interact(plot, lq=(0.1, 100), luq=(.1, 100))"
   ]
  },
  {
   "cell_type": "code",
   "execution_count": 42,
   "metadata": {},
   "outputs": [],
   "source": [
    "def plot(lq, luq):\n",
    "    global u_uq, u_q, l, w\n",
    "    \n",
    "    def F(x, l):\n",
    "        return 1-np.exp(-l*x)\n",
    "\n",
    "    def get_theta(pi):\n",
    "        x = u_uq/u_q*(1-pi)/pi\n",
    "        return np.log(x*luq/lq)*(luq-lq)**(-1)\n",
    "\n",
    "    def dpdt(theta):\n",
    "        return l*(w*(F(theta, luq) - F(theta, lq)) - pi)\n",
    "\n",
    "    pi = [.2]\n",
    "    theta = []\n",
    "    for i in range(100):\n",
    "        theta.append(get_theta(pi[i]))\n",
    "        pi.append(pi[i] + dpdt(theta[i]))\n",
    "        \n",
    "    plt.plot(theta[:99], pi[:99])\n",
    "    #plt.plot(pi, np.zeros(1000))\n",
    "    #plt.xlim(0,1)\n",
    "    plt.xlabel('theta')\n",
    "    plt.ylabel('pi')\n",
    "    plt.show"
   ]
  },
  {
   "cell_type": "code",
   "execution_count": 46,
   "metadata": {},
   "outputs": [
    {
     "ename": "ZeroDivisionError",
     "evalue": "0.0 cannot be raised to a negative power",
     "output_type": "error",
     "traceback": [
      "\u001b[0;31m---------------------------------------------------------------------------\u001b[0m",
      "\u001b[0;31mZeroDivisionError\u001b[0m                         Traceback (most recent call last)",
      "\u001b[0;32m<ipython-input-46-82490571d05c>\u001b[0m in \u001b[0;36m<module>\u001b[0;34m\u001b[0m\n\u001b[1;32m     14\u001b[0m \u001b[0mtheta\u001b[0m \u001b[0;34m=\u001b[0m \u001b[0;34m[\u001b[0m\u001b[0;34m]\u001b[0m\u001b[0;34m\u001b[0m\u001b[0m\n\u001b[1;32m     15\u001b[0m \u001b[0;32mfor\u001b[0m \u001b[0mi\u001b[0m \u001b[0;32min\u001b[0m \u001b[0mrange\u001b[0m\u001b[0;34m(\u001b[0m\u001b[0;36m100\u001b[0m\u001b[0;34m)\u001b[0m\u001b[0;34m:\u001b[0m\u001b[0;34m\u001b[0m\u001b[0m\n\u001b[0;32m---> 16\u001b[0;31m     \u001b[0mtheta\u001b[0m\u001b[0;34m.\u001b[0m\u001b[0mappend\u001b[0m\u001b[0;34m(\u001b[0m\u001b[0mget_theta\u001b[0m\u001b[0;34m(\u001b[0m\u001b[0mpi\u001b[0m\u001b[0;34m[\u001b[0m\u001b[0mi\u001b[0m\u001b[0;34m]\u001b[0m\u001b[0;34m)\u001b[0m\u001b[0;34m)\u001b[0m\u001b[0;34m\u001b[0m\u001b[0m\n\u001b[0m\u001b[1;32m     17\u001b[0m     \u001b[0mpi\u001b[0m\u001b[0;34m.\u001b[0m\u001b[0mappend\u001b[0m\u001b[0;34m(\u001b[0m\u001b[0mpi\u001b[0m\u001b[0;34m[\u001b[0m\u001b[0mi\u001b[0m\u001b[0;34m]\u001b[0m \u001b[0;34m+\u001b[0m \u001b[0mdpdt\u001b[0m\u001b[0;34m(\u001b[0m\u001b[0mtheta\u001b[0m\u001b[0;34m[\u001b[0m\u001b[0mi\u001b[0m\u001b[0;34m]\u001b[0m\u001b[0;34m)\u001b[0m\u001b[0;34m)\u001b[0m\u001b[0;34m\u001b[0m\u001b[0m\n\u001b[1;32m     18\u001b[0m \u001b[0;34m\u001b[0m\u001b[0m\n",
      "\u001b[0;32m<ipython-input-46-82490571d05c>\u001b[0m in \u001b[0;36mget_theta\u001b[0;34m(pi)\u001b[0m\n\u001b[1;32m      6\u001b[0m \u001b[0;32mdef\u001b[0m \u001b[0mget_theta\u001b[0m\u001b[0;34m(\u001b[0m\u001b[0mpi\u001b[0m\u001b[0;34m)\u001b[0m\u001b[0;34m:\u001b[0m\u001b[0;34m\u001b[0m\u001b[0m\n\u001b[1;32m      7\u001b[0m     \u001b[0mx\u001b[0m \u001b[0;34m=\u001b[0m \u001b[0mu_uq\u001b[0m\u001b[0;34m/\u001b[0m\u001b[0mu_q\u001b[0m\u001b[0;34m*\u001b[0m\u001b[0;34m(\u001b[0m\u001b[0;36m1\u001b[0m\u001b[0;34m-\u001b[0m\u001b[0mpi\u001b[0m\u001b[0;34m)\u001b[0m\u001b[0;34m/\u001b[0m\u001b[0mpi\u001b[0m\u001b[0;34m\u001b[0m\u001b[0m\n\u001b[0;32m----> 8\u001b[0;31m     \u001b[0;32mreturn\u001b[0m \u001b[0mnp\u001b[0m\u001b[0;34m.\u001b[0m\u001b[0mlog\u001b[0m\u001b[0;34m(\u001b[0m\u001b[0mx\u001b[0m\u001b[0;34m*\u001b[0m\u001b[0mluq\u001b[0m\u001b[0;34m/\u001b[0m\u001b[0mlq\u001b[0m\u001b[0;34m)\u001b[0m\u001b[0;34m*\u001b[0m\u001b[0;34m(\u001b[0m\u001b[0mluq\u001b[0m\u001b[0;34m-\u001b[0m\u001b[0mlq\u001b[0m\u001b[0;34m)\u001b[0m\u001b[0;34m**\u001b[0m\u001b[0;34m(\u001b[0m\u001b[0;34m-\u001b[0m\u001b[0;36m1\u001b[0m\u001b[0;34m)\u001b[0m\u001b[0;34m\u001b[0m\u001b[0m\n\u001b[0m\u001b[1;32m      9\u001b[0m \u001b[0;34m\u001b[0m\u001b[0m\n\u001b[1;32m     10\u001b[0m \u001b[0;32mdef\u001b[0m \u001b[0mdpdt\u001b[0m\u001b[0;34m(\u001b[0m\u001b[0mtheta\u001b[0m\u001b[0;34m)\u001b[0m\u001b[0;34m:\u001b[0m\u001b[0;34m\u001b[0m\u001b[0m\n",
      "\u001b[0;31mZeroDivisionError\u001b[0m: 0.0 cannot be raised to a negative power"
     ]
    }
   ],
   "source": [
    "lu = 1\n",
    "luq = 1\n",
    "def F(x, l): \n",
    "    return 1-np.exp(-l*x)\n",
    "\n",
    "def get_theta(pi):\n",
    "    x = u_uq/u_q*(1-pi)/pi\n",
    "    return np.log(x*luq/lq)*(luq-lq)**(-1)\n",
    "\n",
    "def dpdt(theta):\n",
    "    return l*(w*(F(theta, luq) - F(theta, lq)) - pi)\n",
    "\n",
    "pi = [.2]\n",
    "theta = []\n",
    "for i in range(100):\n",
    "    theta.append(get_theta(pi[i]))\n",
    "    pi.append(pi[i] + dpdt(theta[i]))\n",
    "    \n"
   ]
  },
  {
   "cell_type": "code",
   "execution_count": 43,
   "metadata": {},
   "outputs": [
    {
     "data": {
      "application/vnd.jupyter.widget-view+json": {
       "model_id": "160c79d77dbb4efba3c1b80bc5086727",
       "version_major": 2,
       "version_minor": 0
      },
      "text/plain": [
       "interactive(children=(FloatSlider(value=50.050000000000004, description='lq', min=0.1), FloatSlider(value=50.0…"
      ]
     },
     "metadata": {},
     "output_type": "display_data"
    },
    {
     "data": {
      "text/plain": [
       "<function __main__.plot(lq, luq)>"
      ]
     },
     "execution_count": 43,
     "metadata": {},
     "output_type": "execute_result"
    }
   ],
   "source": [
    "interact(plot, lq=(0.1, 100), luq=(.1, 100))"
   ]
  }
 ],
 "metadata": {
  "kernelspec": {
   "display_name": "Python 3",
   "language": "python",
   "name": "python3"
  },
  "language_info": {
   "codemirror_mode": {
    "name": "ipython",
    "version": 3
   },
   "file_extension": ".py",
   "mimetype": "text/x-python",
   "name": "python",
   "nbconvert_exporter": "python",
   "pygments_lexer": "ipython3",
   "version": "3.6.6"
  }
 },
 "nbformat": 4,
 "nbformat_minor": 2
}
